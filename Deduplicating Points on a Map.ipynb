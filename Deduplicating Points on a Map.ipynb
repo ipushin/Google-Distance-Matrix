{
 "cells": [
  {
   "cell_type": "code",
   "execution_count": null,
   "metadata": {},
   "outputs": [],
   "source": [
    "import pandas as pd\n",
    "import numpy as np\n",
    "import geopy.distance\n",
    "import warnings\n",
    "warnings.filterwarnings('ignore')"
   ]
  },
  {
   "cell_type": "code",
   "execution_count": null,
   "metadata": {},
   "outputs": [],
   "source": [
    "# Reading (duplicated) dataset\n",
    "boats_df = pd.read_csv('Boating-Non-Dedup-19.05.21.csv', index_col=[0])\n",
    "boats_df.shape"
   ]
  },
  {
   "cell_type": "code",
   "execution_count": null,
   "metadata": {},
   "outputs": [],
   "source": [
    "# Preparing data for deduplication\n",
    "boats_df['Coord Pair'] = list(zip(boats_df['Latitude'], boats_df['Longitude']))\n",
    "boats_df = boats_df.drop_duplicates('Coord Pair').reset_index(drop=True)\n",
    "boats_df['Neighbour Distance'] = 0\n",
    "dedup_df = boats_df.copy()"
   ]
  },
  {
   "cell_type": "code",
   "execution_count": null,
   "metadata": {},
   "outputs": [],
   "source": [
    "filter_distance = 200 # Real distance in meters. Used as a filtering threshold\n",
    "coord_distance = 0.003 # Equals to ~300 meters.\n",
    "print('Number of records BEFORE deduplication:', boats_df.shape[0])\n",
    "\n",
    "# while there are points closer than filtering distance to each other\n",
    "while dedup_df['Neighbour Distance'].min() < filter_distance: \n",
    "    \n",
    "    for idx in dedup_df.index:\n",
    "        if idx not in dedup_df.index:\n",
    "            continue\n",
    "        \n",
    "        # Choosing the closest points based on the coordinates (not real distance btw locations) \n",
    "        closest_df = dedup_df[(dedup_df['Longitude']<dedup_df['Longitude'].loc[idx]+coord_distance) &\n",
    "                             (dedup_df['Longitude']>dedup_df['Longitude'].loc[idx]-coord_distance) &\n",
    "                             (dedup_df['Longitude']!=dedup_df['Longitude'].loc[idx]) &\n",
    "\n",
    "                             (dedup_df['Latitude']<dedup_df['Latitude'].loc[idx]+coord_distance)&\n",
    "                             (dedup_df['Latitude']>dedup_df['Latitude'].loc[idx]-coord_distance)&\n",
    "                             (dedup_df['Latitude']!=dedup_df['Latitude'].loc[idx])]\n",
    "\n",
    "        dists = []\n",
    "        for sub_idx in closest_df.index:\n",
    "            coords_1 = dedup_df['Coord Pair'].loc[idx] # Lat/Lon of the origin\n",
    "            coords_2 = dedup_df['Coord Pair'].loc[sub_idx] # Lat/Lon of the closest point\n",
    "            \n",
    "            # Calculating real distance btw locations \n",
    "            distance = geopy.distance.distance(coords_1, coords_2).m\n",
    "            dists.append(distance)\n",
    "            \n",
    "            # Conditions to choose which points to delete, from paddle.com or scraped from other sources\n",
    "            if distance <= filter_distance and dedup_df['Source'].loc[sub_idx] != 'Paddle':\n",
    "                try:\n",
    "                    dedup_df.drop(sub_idx, inplace=True)\n",
    "                except:\n",
    "                    pass\n",
    "\n",
    "            elif distance <= filter_distance and dedup_df['Source'].loc[sub_idx] == 'Paddle' and dedup_df['Source'].loc[idx] == 'Paddle':\n",
    "                try:\n",
    "                    dedup_df.drop(sub_idx, inplace=True)\n",
    "                except:\n",
    "                    pass\n",
    "        \n",
    "        # Assigning the distance to the nearest point on the map\n",
    "        if len(dists)>0:\n",
    "            dedup_df['Neighbour Distance'].loc[idx] = np.min(dists)\n",
    "        else:\n",
    "            dedup_df['Neighbour Distance'].loc[idx] = np.nan\n",
    "\n",
    "print('Number of records AFTER deduplication:', dedup_df.shape[0])\n",
    "print('How many points were closer than {} meters to other points: {}'.format(filter_distance, boats_df.shape[0] - dedup_df.shape[0]))"
   ]
  },
  {
   "cell_type": "code",
   "execution_count": null,
   "metadata": {},
   "outputs": [],
   "source": []
  }
 ],
 "metadata": {
  "kernelspec": {
   "display_name": "Python 3",
   "language": "python",
   "name": "python3"
  },
  "language_info": {
   "codemirror_mode": {
    "name": "ipython",
    "version": 3
   },
   "file_extension": ".py",
   "mimetype": "text/x-python",
   "name": "python",
   "nbconvert_exporter": "python",
   "pygments_lexer": "ipython3",
   "version": "3.7.5"
  }
 },
 "nbformat": 4,
 "nbformat_minor": 4
}
