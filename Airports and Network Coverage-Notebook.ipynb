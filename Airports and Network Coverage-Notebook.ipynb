{
 "cells": [
  {
   "cell_type": "code",
   "execution_count": 1,
   "metadata": {},
   "outputs": [],
   "source": [
    "import pandas as pd\n",
    "import numpy as np\n",
    "import requests, json \n",
    "pd.set_option('display.max_columns', None)\n",
    "pd.set_option('display.max_rows', None)\n",
    "from time import sleep"
   ]
  },
  {
   "cell_type": "markdown",
   "metadata": {},
   "source": [
    "### Airports"
   ]
  },
  {
   "cell_type": "code",
   "execution_count": 225,
   "metadata": {},
   "outputs": [
    {
     "data": {
      "text/plain": [
       "(7698, 14)"
      ]
     },
     "execution_count": 225,
     "metadata": {},
     "output_type": "execute_result"
    }
   ],
   "source": [
    "airports = pd.read_csv('/Users/macbook/Downloads/Immobel/airport_df.csv')\n",
    "airports.shape"
   ]
  },
  {
   "cell_type": "code",
   "execution_count": 6,
   "metadata": {},
   "outputs": [
    {
     "data": {
      "text/plain": [
       "(237, 6955)"
      ]
     },
     "execution_count": 6,
     "metadata": {},
     "output_type": "execute_result"
    }
   ],
   "source": [
    "airports['Country'].nunique(), airports['City'].nunique()"
   ]
  },
  {
   "cell_type": "code",
   "execution_count": 226,
   "metadata": {},
   "outputs": [],
   "source": [
    "wrong_ports = ['Base','Municipal','Field','Airfield','Heliport', 'Airstrip',\n",
    "               'Force','Army', 'Naval','Military','RAF', 'Aerodrome']"
   ]
  },
  {
   "cell_type": "code",
   "execution_count": 227,
   "metadata": {},
   "outputs": [],
   "source": [
    "airports['Name'] = airports['Name'].apply(lambda x: np.nan if any([w.lower() in x.lower() for w in wrong_ports]) else x)\n",
    "airports['IATA'] = airports['IATA'].apply(lambda x: np.nan if x == '\\\\N' else x)"
   ]
  },
  {
   "cell_type": "code",
   "execution_count": 228,
   "metadata": {},
   "outputs": [
    {
     "data": {
      "text/plain": [
       "(5397, 14)"
      ]
     },
     "execution_count": 228,
     "metadata": {},
     "output_type": "execute_result"
    }
   ],
   "source": [
    "airports = airports.dropna(subset=['Name','IATA'])\n",
    "airports.shape"
   ]
  },
  {
   "cell_type": "markdown",
   "metadata": {},
   "source": [
    "### Addresses"
   ]
  },
  {
   "cell_type": "code",
   "execution_count": 275,
   "metadata": {},
   "outputs": [],
   "source": [
    "addresses = pd.read_csv('immobel_addresses.csv')"
   ]
  },
  {
   "cell_type": "code",
   "execution_count": 373,
   "metadata": {},
   "outputs": [
    {
     "data": {
      "text/html": [
       "<div>\n",
       "<style scoped>\n",
       "    .dataframe tbody tr th:only-of-type {\n",
       "        vertical-align: middle;\n",
       "    }\n",
       "\n",
       "    .dataframe tbody tr th {\n",
       "        vertical-align: top;\n",
       "    }\n",
       "\n",
       "    .dataframe thead th {\n",
       "        text-align: right;\n",
       "    }\n",
       "</style>\n",
       "<table border=\"1\" class=\"dataframe\">\n",
       "  <thead>\n",
       "    <tr style=\"text-align: right;\">\n",
       "      <th></th>\n",
       "      <th>id</th>\n",
       "      <th>street</th>\n",
       "      <th>city</th>\n",
       "      <th>state</th>\n",
       "      <th>postcode</th>\n",
       "      <th>lat</th>\n",
       "      <th>lon</th>\n",
       "    </tr>\n",
       "  </thead>\n",
       "  <tbody>\n",
       "    <tr>\n",
       "      <th>0</th>\n",
       "      <td>1.98134e+07</td>\n",
       "      <td>2160 Wood Hollow Ct</td>\n",
       "      <td>San Jose</td>\n",
       "      <td>CA</td>\n",
       "      <td>95138.0</td>\n",
       "      <td>37.2862</td>\n",
       "      <td>-121.774</td>\n",
       "    </tr>\n",
       "    <tr>\n",
       "      <th>1</th>\n",
       "      <td>1.86869e+07</td>\n",
       "      <td>9516 N Senator Dr</td>\n",
       "      <td>Fresno</td>\n",
       "      <td>CA</td>\n",
       "      <td>93720.0</td>\n",
       "      <td>36.8745</td>\n",
       "      <td>-119.765</td>\n",
       "    </tr>\n",
       "    <tr>\n",
       "      <th>2</th>\n",
       "      <td>1.96959e+07</td>\n",
       "      <td>4541 Abbeygate Ct</td>\n",
       "      <td>San Jose</td>\n",
       "      <td>CA</td>\n",
       "      <td>95124.0</td>\n",
       "      <td>37.2554</td>\n",
       "      <td>-121.906</td>\n",
       "    </tr>\n",
       "    <tr>\n",
       "      <th>3</th>\n",
       "      <td>2.58512e+07</td>\n",
       "      <td>5845 Stallon Way</td>\n",
       "      <td>Sacramento</td>\n",
       "      <td>CA</td>\n",
       "      <td>95823.0</td>\n",
       "      <td>38.4825</td>\n",
       "      <td>-121.435</td>\n",
       "    </tr>\n",
       "    <tr>\n",
       "      <th>4</th>\n",
       "      <td>2.4811e+07</td>\n",
       "      <td>6209 Rockwell St</td>\n",
       "      <td>Oakland</td>\n",
       "      <td>CA</td>\n",
       "      <td>94618.0</td>\n",
       "      <td>37.8506</td>\n",
       "      <td>-122.249</td>\n",
       "    </tr>\n",
       "  </tbody>\n",
       "</table>\n",
       "</div>"
      ],
      "text/plain": [
       "            id               street        city state  postcode      lat  \\\n",
       "0  1.98134e+07  2160 Wood Hollow Ct    San Jose    CA   95138.0  37.2862   \n",
       "1  1.86869e+07    9516 N Senator Dr      Fresno    CA   93720.0  36.8745   \n",
       "2  1.96959e+07    4541 Abbeygate Ct    San Jose    CA   95124.0  37.2554   \n",
       "3  2.58512e+07     5845 Stallon Way  Sacramento    CA   95823.0  38.4825   \n",
       "4   2.4811e+07     6209 Rockwell St     Oakland    CA   94618.0  37.8506   \n",
       "\n",
       "       lon  \n",
       "0 -121.774  \n",
       "1 -119.765  \n",
       "2 -121.906  \n",
       "3 -121.435  \n",
       "4 -122.249  "
      ]
     },
     "execution_count": 373,
     "metadata": {},
     "output_type": "execute_result"
    }
   ],
   "source": [
    "addresses.head()"
   ]
  },
  {
   "cell_type": "code",
   "execution_count": 374,
   "metadata": {},
   "outputs": [
    {
     "data": {
      "text/plain": [
       "(200, 7)"
      ]
     },
     "execution_count": 374,
     "metadata": {},
     "output_type": "execute_result"
    }
   ],
   "source": [
    "addresses.shape"
   ]
  },
  {
   "cell_type": "markdown",
   "metadata": {},
   "source": [
    "### Calling API and structuring API responses"
   ]
  },
  {
   "cell_type": "code",
   "execution_count": 377,
   "metadata": {},
   "outputs": [],
   "source": [
    "addresses['Metadata'] = np.nan\n",
    "addresses['Origin Address'] = np.nan\n",
    "api_key = 'API KEY'"
   ]
  },
  {
   "cell_type": "code",
   "execution_count": null,
   "metadata": {},
   "outputs": [],
   "source": [
    "%%time\n",
    "for n in addresses.index[:]:   \n",
    "    \n",
    "    # Preparing data for request\n",
    "    dest = ''\n",
    "    org_lat = addresses['lat'].loc[n]\n",
    "    org_lon = addresses['lon'].loc[n]\n",
    "    \n",
    "    airport_filter = airports[(airports['Lat'] < org_lat+0.9) & \n",
    "                                (airports['Lat'] > org_lat-0.9) & \n",
    "                                (airports['Long'] < org_lon+1.2) & \n",
    "                                (airports['Long'] > org_lon-1.2)]\n",
    "\n",
    "    for idx in airport_filter.index:\n",
    "        coord = str(airports['Lat'].loc[idx]) + '%2C' + str(airports['Long'].loc[idx])\n",
    "        dest = dest + coord + '%7C'\n",
    "    \n",
    "    # API Request\n",
    "    origin = str(org_lat) + ',' + str(org_lon)\n",
    "    url = 'https://maps.googleapis.com/maps/api/distancematrix/json?&origins={}&destinations={}&key={}'.format(origin, dest, api_key)\n",
    "    r = requests.get(url)\n",
    "    \n",
    "    \n",
    "    # Processing request\n",
    "    try:\n",
    "        addresses['Origin Address'].loc[n] = r.json()['origin_addresses'][0]\n",
    "    except:\n",
    "        pass\n",
    "    \n",
    "    air_list = []\n",
    "    for i in range(airport_filter.shape[0]):\n",
    "\n",
    "        air_dict = {}\n",
    "        \n",
    "        try:\n",
    "            air_dict['Distance, m'] = r.json()['rows'][0]['elements'][i]['distance']['value']\n",
    "            air_dict['Duration, sec'] = r.json()['rows'][0]['elements'][i]['duration']['value']\n",
    "        \n",
    "        except:\n",
    "            air_dict['Distance, m'] = np.nan\n",
    "            air_dict['Duration, sec'] = np.nan\n",
    "            \n",
    "        air_dict['Destination Address'] = r.json()['destination_addresses'][i]    \n",
    "        air_dict['Airport Name'] = airport_filter['Name'].values[i]\n",
    "        air_dict['Airport Code'] = airport_filter['IATA'].values[i]\n",
    "        air_dict['Airport City'] = airport_filter['City'].values[i]\n",
    "        \n",
    "        air_dict['Airport Lat'] = airport_filter['Lat'].values[i]\n",
    "        air_dict['Airport Lon'] = airport_filter['Long'].values[i]\n",
    "        air_dict['Origin ID'] = addresses['id'].loc[n]\n",
    "\n",
    "        air_list.append(air_dict)\n",
    "    \n",
    "    air_list = sorted(air_list, key=lambda k: k['Distance, m']) \n",
    "    \n",
    "    addresses['Metadata'].loc[n] = air_list"
   ]
  },
  {
   "cell_type": "code",
   "execution_count": 387,
   "metadata": {},
   "outputs": [
    {
     "data": {
      "text/html": [
       "<div>\n",
       "<style scoped>\n",
       "    .dataframe tbody tr th:only-of-type {\n",
       "        vertical-align: middle;\n",
       "    }\n",
       "\n",
       "    .dataframe tbody tr th {\n",
       "        vertical-align: top;\n",
       "    }\n",
       "\n",
       "    .dataframe thead th {\n",
       "        text-align: right;\n",
       "    }\n",
       "</style>\n",
       "<table border=\"1\" class=\"dataframe\">\n",
       "  <thead>\n",
       "    <tr style=\"text-align: right;\">\n",
       "      <th></th>\n",
       "      <th>id</th>\n",
       "      <th>street</th>\n",
       "      <th>city</th>\n",
       "      <th>state</th>\n",
       "      <th>postcode</th>\n",
       "      <th>lat</th>\n",
       "      <th>lon</th>\n",
       "      <th>Metadata</th>\n",
       "    </tr>\n",
       "  </thead>\n",
       "  <tbody>\n",
       "    <tr>\n",
       "      <th>0</th>\n",
       "      <td>1.98134e+07</td>\n",
       "      <td>2160 Wood Hollow Ct</td>\n",
       "      <td>San Jose</td>\n",
       "      <td>CA</td>\n",
       "      <td>95138.0</td>\n",
       "      <td>37.2862</td>\n",
       "      <td>-121.774</td>\n",
       "      <td>[{'Distance, m': 9470, 'Duration, sec': 753, '...</td>\n",
       "    </tr>\n",
       "  </tbody>\n",
       "</table>\n",
       "</div>"
      ],
      "text/plain": [
       "            id               street      city state  postcode      lat  \\\n",
       "0  1.98134e+07  2160 Wood Hollow Ct  San Jose    CA   95138.0  37.2862   \n",
       "\n",
       "       lon                                           Metadata  \n",
       "0 -121.774  [{'Distance, m': 9470, 'Duration, sec': 753, '...  "
      ]
     },
     "execution_count": 387,
     "metadata": {},
     "output_type": "execute_result"
    }
   ],
   "source": [
    "addresses.head(1)"
   ]
  },
  {
   "cell_type": "markdown",
   "metadata": {},
   "source": [
    "### Destination data"
   ]
  },
  {
   "cell_type": "code",
   "execution_count": 383,
   "metadata": {},
   "outputs": [
    {
     "data": {
      "text/plain": [
       "(1254, 9)"
      ]
     },
     "execution_count": 383,
     "metadata": {},
     "output_type": "execute_result"
    }
   ],
   "source": [
    "destination_df = pd.DataFrame()\n",
    "for i in addresses.index:\n",
    "    meat_df = pd.DataFrame(addresses['Metadata'].loc[i])\n",
    "    destination_df = pd.concat([destination_df, meat_df], ignore_index=True)\n",
    "\n",
    "destination_df.shape"
   ]
  },
  {
   "cell_type": "code",
   "execution_count": 386,
   "metadata": {},
   "outputs": [
    {
     "data": {
      "text/html": [
       "<div>\n",
       "<style scoped>\n",
       "    .dataframe tbody tr th:only-of-type {\n",
       "        vertical-align: middle;\n",
       "    }\n",
       "\n",
       "    .dataframe tbody tr th {\n",
       "        vertical-align: top;\n",
       "    }\n",
       "\n",
       "    .dataframe thead th {\n",
       "        text-align: right;\n",
       "    }\n",
       "</style>\n",
       "<table border=\"1\" class=\"dataframe\">\n",
       "  <thead>\n",
       "    <tr style=\"text-align: right;\">\n",
       "      <th></th>\n",
       "      <th>Distance, m</th>\n",
       "      <th>Duration, sec</th>\n",
       "      <th>Destination Address</th>\n",
       "      <th>Airport Name</th>\n",
       "      <th>Airport Code</th>\n",
       "      <th>Airport City</th>\n",
       "      <th>Airport Lat</th>\n",
       "      <th>Airport Lon</th>\n",
       "      <th>Origin ID</th>\n",
       "    </tr>\n",
       "  </thead>\n",
       "  <tbody>\n",
       "    <tr>\n",
       "      <th>0</th>\n",
       "      <td>9470.0</td>\n",
       "      <td>753.0</td>\n",
       "      <td>2204 Waverly Ave, San Jose, CA 95122, USA</td>\n",
       "      <td>Reid-Hillview Airport of Santa Clara County</td>\n",
       "      <td>RHV</td>\n",
       "      <td>San Jose</td>\n",
       "      <td>37.332901</td>\n",
       "      <td>-121.819</td>\n",
       "      <td>1.98134e+07</td>\n",
       "    </tr>\n",
       "  </tbody>\n",
       "</table>\n",
       "</div>"
      ],
      "text/plain": [
       "   Distance, m  Duration, sec                        Destination Address  \\\n",
       "0       9470.0          753.0  2204 Waverly Ave, San Jose, CA 95122, USA   \n",
       "\n",
       "                                  Airport Name Airport Code Airport City  \\\n",
       "0  Reid-Hillview Airport of Santa Clara County          RHV     San Jose   \n",
       "\n",
       "   Airport Lat  Airport Lon    Origin ID  \n",
       "0    37.332901     -121.819  1.98134e+07  "
      ]
     },
     "execution_count": 386,
     "metadata": {},
     "output_type": "execute_result"
    }
   ],
   "source": [
    "destination_df.head(1)"
   ]
  },
  {
   "cell_type": "markdown",
   "metadata": {},
   "source": [
    "### Filtering Data and choosing listings"
   ]
  },
  {
   "cell_type": "code",
   "execution_count": 394,
   "metadata": {},
   "outputs": [
    {
     "data": {
      "text/plain": [
       "32"
      ]
     },
     "execution_count": 394,
     "metadata": {},
     "output_type": "execute_result"
    }
   ],
   "source": [
    "# Choose max distance in km to the nearest airports\n",
    "max_distanace = 10\n",
    "destination_df[destination_df['Distance, m'] < max_distanace*1000]['Origin ID'].nunique()"
   ]
  },
  {
   "cell_type": "code",
   "execution_count": 327,
   "metadata": {},
   "outputs": [],
   "source": [
    "# IDs of origins \n",
    "org_ids = destination_df[destination_df['Distance, m'] < max_distanace*1000]['Origin ID'].unique()"
   ]
  },
  {
   "cell_type": "code",
   "execution_count": null,
   "metadata": {},
   "outputs": [],
   "source": [
    "# How many listings are filtered\n",
    "addresses[addresses['zpid'].isin(org_ids)].shape"
   ]
  },
  {
   "cell_type": "code",
   "execution_count": 329,
   "metadata": {},
   "outputs": [
    {
     "data": {
      "text/html": [
       "<div>\n",
       "<style scoped>\n",
       "    .dataframe tbody tr th:only-of-type {\n",
       "        vertical-align: middle;\n",
       "    }\n",
       "\n",
       "    .dataframe tbody tr th {\n",
       "        vertical-align: top;\n",
       "    }\n",
       "\n",
       "    .dataframe thead th {\n",
       "        text-align: right;\n",
       "    }\n",
       "</style>\n",
       "<table border=\"1\" class=\"dataframe\">\n",
       "  <thead>\n",
       "    <tr style=\"text-align: right;\">\n",
       "      <th></th>\n",
       "      <th>zpid</th>\n",
       "      <th>streetTitle</th>\n",
       "      <th>city</th>\n",
       "      <th>state</th>\n",
       "      <th>zipCode</th>\n",
       "      <th>lat</th>\n",
       "      <th>lon</th>\n",
       "      <th>Metadata</th>\n",
       "    </tr>\n",
       "  </thead>\n",
       "  <tbody>\n",
       "    <tr>\n",
       "      <th>7</th>\n",
       "      <td>89475173</td>\n",
       "      <td>809 Lippert Pl</td>\n",
       "      <td>Santa Clara</td>\n",
       "      <td>CA</td>\n",
       "      <td>95050.0</td>\n",
       "      <td>37.3414</td>\n",
       "      <td>-121.968</td>\n",
       "      <td>[{'Distance, m': 4886, 'Duration, sec': 638, '...</td>\n",
       "    </tr>\n",
       "    <tr>\n",
       "      <th>28</th>\n",
       "      <td>25806689</td>\n",
       "      <td>2341 Hooke Way</td>\n",
       "      <td>Sacramento</td>\n",
       "      <td>CA</td>\n",
       "      <td>95822.0</td>\n",
       "      <td>38.5269</td>\n",
       "      <td>-121.485</td>\n",
       "      <td>[{'Distance, m': 2944, 'Duration, sec': 314, '...</td>\n",
       "    </tr>\n",
       "    <tr>\n",
       "      <th>41</th>\n",
       "      <td>18781199</td>\n",
       "      <td>5489 E Holland Ave</td>\n",
       "      <td>Fresno</td>\n",
       "      <td>CA</td>\n",
       "      <td>93727.0</td>\n",
       "      <td>36.7980</td>\n",
       "      <td>-119.705</td>\n",
       "      <td>[{'Distance, m': 3331, 'Duration, sec': 328, '...</td>\n",
       "    </tr>\n",
       "    <tr>\n",
       "      <th>47</th>\n",
       "      <td>25842240</td>\n",
       "      <td>13 Canyon Tree Ct</td>\n",
       "      <td>Sacramento</td>\n",
       "      <td>CA</td>\n",
       "      <td>95822.0</td>\n",
       "      <td>38.4998</td>\n",
       "      <td>-121.474</td>\n",
       "      <td>[{'Distance, m': 2909, 'Duration, sec': 333, '...</td>\n",
       "    </tr>\n",
       "    <tr>\n",
       "      <th>57</th>\n",
       "      <td>19790700</td>\n",
       "      <td>1866 Indian Creek Ct</td>\n",
       "      <td>San Jose</td>\n",
       "      <td>CA</td>\n",
       "      <td>95148.0</td>\n",
       "      <td>37.3505</td>\n",
       "      <td>-121.795</td>\n",
       "      <td>[{'Distance, m': 4826, 'Duration, sec': 586, '...</td>\n",
       "    </tr>\n",
       "    <tr>\n",
       "      <th>86</th>\n",
       "      <td>25805760</td>\n",
       "      <td>2370 19th Ave</td>\n",
       "      <td>Sacramento</td>\n",
       "      <td>CA</td>\n",
       "      <td>95822.0</td>\n",
       "      <td>38.5347</td>\n",
       "      <td>-121.484</td>\n",
       "      <td>[{'Distance, m': 3772, 'Duration, sec': 381, '...</td>\n",
       "    </tr>\n",
       "    <tr>\n",
       "      <th>88</th>\n",
       "      <td>19802275</td>\n",
       "      <td>1783 Tustin Dr</td>\n",
       "      <td>San Jose</td>\n",
       "      <td>CA</td>\n",
       "      <td>95122.0</td>\n",
       "      <td>37.3133</td>\n",
       "      <td>-121.814</td>\n",
       "      <td>[{'Distance, m': 3124, 'Duration, sec': 392, '...</td>\n",
       "    </tr>\n",
       "    <tr>\n",
       "      <th>98</th>\n",
       "      <td>19468608</td>\n",
       "      <td>1082 Stanley Way</td>\n",
       "      <td>Palo Alto</td>\n",
       "      <td>CA</td>\n",
       "      <td>94303.0</td>\n",
       "      <td>37.4473</td>\n",
       "      <td>-122.137</td>\n",
       "      <td>[{'Distance, m': 3459, 'Duration, sec': 473, '...</td>\n",
       "    </tr>\n",
       "  </tbody>\n",
       "</table>\n",
       "</div>"
      ],
      "text/plain": [
       "        zpid           streetTitle         city state  zipCode      lat  \\\n",
       "7   89475173        809 Lippert Pl  Santa Clara    CA  95050.0  37.3414   \n",
       "28  25806689        2341 Hooke Way   Sacramento    CA  95822.0  38.5269   \n",
       "41  18781199    5489 E Holland Ave       Fresno    CA  93727.0  36.7980   \n",
       "47  25842240     13 Canyon Tree Ct   Sacramento    CA  95822.0  38.4998   \n",
       "57  19790700  1866 Indian Creek Ct     San Jose    CA  95148.0  37.3505   \n",
       "86  25805760         2370 19th Ave   Sacramento    CA  95822.0  38.5347   \n",
       "88  19802275        1783 Tustin Dr     San Jose    CA  95122.0  37.3133   \n",
       "98  19468608      1082 Stanley Way    Palo Alto    CA  94303.0  37.4473   \n",
       "\n",
       "        lon                                           Metadata  \n",
       "7  -121.968  [{'Distance, m': 4886, 'Duration, sec': 638, '...  \n",
       "28 -121.485  [{'Distance, m': 2944, 'Duration, sec': 314, '...  \n",
       "41 -119.705  [{'Distance, m': 3331, 'Duration, sec': 328, '...  \n",
       "47 -121.474  [{'Distance, m': 2909, 'Duration, sec': 333, '...  \n",
       "57 -121.795  [{'Distance, m': 4826, 'Duration, sec': 586, '...  \n",
       "86 -121.484  [{'Distance, m': 3772, 'Duration, sec': 381, '...  \n",
       "88 -121.814  [{'Distance, m': 3124, 'Duration, sec': 392, '...  \n",
       "98 -122.137  [{'Distance, m': 3459, 'Duration, sec': 473, '...  "
      ]
     },
     "execution_count": 329,
     "metadata": {},
     "output_type": "execute_result"
    }
   ],
   "source": [
    "# Filtered listings\n",
    "addresses[addresses['zpid'].isin(org_ids)]"
   ]
  }
 ],
 "metadata": {
  "kernelspec": {
   "display_name": "Python 3",
   "language": "python",
   "name": "python3"
  },
  "language_info": {
   "codemirror_mode": {
    "name": "ipython",
    "version": 3
   },
   "file_extension": ".py",
   "mimetype": "text/x-python",
   "name": "python",
   "nbconvert_exporter": "python",
   "pygments_lexer": "ipython3",
   "version": "3.7.5"
  }
 },
 "nbformat": 4,
 "nbformat_minor": 4
}
